{
  "nbformat": 4,
  "nbformat_minor": 0,
  "metadata": {
    "colab": {
      "name": "Simple Interest.ipynb",
      "provenance": [],
      "authorship_tag": "ABX9TyNO1PKESFW8Gu0MHclcLbt7",
      "include_colab_link": true
    },
    "kernelspec": {
      "name": "python3",
      "display_name": "Python 3"
    },
    "language_info": {
      "name": "python"
    }
  },
  "cells": [
    {
      "cell_type": "markdown",
      "metadata": {
        "id": "view-in-github",
        "colab_type": "text"
      },
      "source": [
        "<a href=\"https://colab.research.google.com/github/bharani007-pc/python/blob/main/Simple_Interest.ipynb\" target=\"_parent\"><img src=\"https://colab.research.google.com/assets/colab-badge.svg\" alt=\"Open In Colab\"/></a>"
      ]
    },
    {
      "cell_type": "code",
      "metadata": {
        "colab": {
          "base_uri": "https://localhost:8080/"
        },
        "id": "tMQ3E8kkBigW",
        "outputId": "ff0b31f8-485d-4975-c149-930fd7b31312"
      },
      "source": [
        "P=float(input(\"Enter The Principle Amount:\"))\n",
        "N=float(input(\"Enter the No of Years:\"))\n",
        "R=float(input(\"Enter The Rate of Interest:\"))\n",
        "si=(P*N*R)/100\n",
        "print(\"Simple Interst:\",format(si))"
      ],
      "execution_count": 3,
      "outputs": [
        {
          "output_type": "stream",
          "text": [
            "Enter The Principle Amount:1000\n",
            "Enter the No of Years:5\n",
            "Enter The Rate of Interest:2\n",
            "Simple Interst: 100.0\n"
          ],
          "name": "stdout"
        }
      ]
    }
  ]
}