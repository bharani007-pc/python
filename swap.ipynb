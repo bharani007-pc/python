{
  "nbformat": 4,
  "nbformat_minor": 0,
  "metadata": {
    "colab": {
      "name": "swap.ipynb",
      "provenance": [],
      "authorship_tag": "ABX9TyPmydCeh7AjnNRNYk7t5y7R",
      "include_colab_link": true
    },
    "kernelspec": {
      "name": "python3",
      "display_name": "Python 3"
    },
    "language_info": {
      "name": "python"
    }
  },
  "cells": [
    {
      "cell_type": "markdown",
      "metadata": {
        "id": "view-in-github",
        "colab_type": "text"
      },
      "source": [
        "<a href=\"https://colab.research.google.com/github/bharani007-pc/python/blob/main/swap.ipynb\" target=\"_parent\"><img src=\"https://colab.research.google.com/assets/colab-badge.svg\" alt=\"Open In Colab\"/></a>"
      ]
    },
    {
      "cell_type": "code",
      "metadata": {
        "colab": {
          "base_uri": "https://localhost:8080/"
        },
        "id": "oikPMwQvazTv",
        "outputId": "01b036c0-c28a-4199-d624-dd54d41f8f01"
      },
      "source": [
        "a=int(input(\"Enter the first number:\"))\n",
        "b=int(input(\"Enter the second number:\"))\n",
        "temp=a\n",
        "a=b\n",
        "b=temp\n",
        "print(\"After Swapping\")\n",
        "print(\"The Value of a:\",a)\n",
        "print(\"The Value of b:\",b)"
      ],
      "execution_count": 3,
      "outputs": [
        {
          "output_type": "stream",
          "text": [
            "Enter the first number:5\n",
            "Enter the second number:6\n",
            "After Swapping\n",
            "The Value of a: 6\n",
            "The Value of b: 5\n"
          ],
          "name": "stdout"
        }
      ]
    }
  ]
}