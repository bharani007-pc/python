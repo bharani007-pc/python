{
  "nbformat": 4,
  "nbformat_minor": 0,
  "metadata": {
    "colab": {
      "name": "User Data.ipynb",
      "provenance": [],
      "authorship_tag": "ABX9TyNUSk7Zmll0QOTGkzlyvpHN",
      "include_colab_link": true
    },
    "kernelspec": {
      "name": "python3",
      "display_name": "Python 3"
    },
    "language_info": {
      "name": "python"
    }
  },
  "cells": [
    {
      "cell_type": "markdown",
      "metadata": {
        "id": "view-in-github",
        "colab_type": "text"
      },
      "source": [
        "<a href=\"https://colab.research.google.com/github/bharani007-pc/python/blob/main/User_Data.ipynb\" target=\"_parent\"><img src=\"https://colab.research.google.com/assets/colab-badge.svg\" alt=\"Open In Colab\"/></a>"
      ]
    },
    {
      "cell_type": "code",
      "metadata": {
        "colab": {
          "base_uri": "https://localhost:8080/"
        },
        "id": "L0G57hgUoyII",
        "outputId": "f47fb988-c1c8-459f-fb1a-37aca7e52549"
      },
      "source": [
        "name = input(\"Enter The Name: \")\n",
        "age = int(input(\"Enter The Age: \"))\n",
        "address = input(\"Enter The Address: \")\n",
        "Salary = int(input(\"Enter The Salary:\")) \n",
        "Phone = int(input(\"Enter The Phone No:\")) \n",
        "print(\"My Name is: \", name)\n",
        "print(\"My Age is: \", age)\n",
        "print(\"My Address is: \", address)\n",
        "print(\"My Salary is:\", Salary) \n",
        "print(\"My Phone Number is :\", Phone)"
      ],
      "execution_count": 2,
      "outputs": [
        {
          "output_type": "stream",
          "text": [
            "Enter The Name: bharani\n",
            "Enter The Age: 19\n",
            "Enter The Address: sivagiri,erode\n",
            "Enter The Salary:50000\n",
            "Enter The Phone No:123456789\n",
            "My Name is:  bharani\n",
            "My Age is:  19\n",
            "My Address is:  sivagiri,erode\n",
            "My Salary is: 50000\n",
            "My Phone Number is : 123456789\n"
          ],
          "name": "stdout"
        }
      ]
    }
  ]
}