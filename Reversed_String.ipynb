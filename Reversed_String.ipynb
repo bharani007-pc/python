{
  "nbformat": 4,
  "nbformat_minor": 0,
  "metadata": {
    "colab": {
      "name": "Reversed String.ipynb",
      "provenance": [],
      "authorship_tag": "ABX9TyNrDgiUfIdvo+lmMrHgkDVq",
      "include_colab_link": true
    },
    "kernelspec": {
      "name": "python3",
      "display_name": "Python 3"
    },
    "language_info": {
      "name": "python"
    }
  },
  "cells": [
    {
      "cell_type": "markdown",
      "metadata": {
        "id": "view-in-github",
        "colab_type": "text"
      },
      "source": [
        "<a href=\"https://colab.research.google.com/github/bharani007-pc/python/blob/main/Reversed_String.ipynb\" target=\"_parent\"><img src=\"https://colab.research.google.com/assets/colab-badge.svg\" alt=\"Open In Colab\"/></a>"
      ]
    },
    {
      "cell_type": "code",
      "metadata": {
        "colab": {
          "base_uri": "https://localhost:8080/"
        },
        "id": "MP_IyzIiyEeR",
        "outputId": "c4373233-51d7-486f-d5cf-1423c2e20b2e"
      },
      "source": [
        "a=input(\"Enter the sentence:\")\n",
        "a=a[::-1]\n",
        "print(\"Reversed Sentence:\",a)"
      ],
      "execution_count": 19,
      "outputs": [
        {
          "output_type": "stream",
          "text": [
            "Enter the sentence:123456\n",
            "Reversed Sentence: 654321\n"
          ],
          "name": "stdout"
        }
      ]
    }
  ]
}