{
  "nbformat": 4,
  "nbformat_minor": 0,
  "metadata": {
    "colab": {
      "name": "Untitled0.ipynb",
      "provenance": [],
      "authorship_tag": "ABX9TyO8qZGnyw3DChrg8F3de5sz",
      "include_colab_link": true
    },
    "kernelspec": {
      "name": "python3",
      "display_name": "Python 3"
    },
    "language_info": {
      "name": "python"
    }
  },
  "cells": [
    {
      "cell_type": "markdown",
      "metadata": {
        "id": "view-in-github",
        "colab_type": "text"
      },
      "source": [
        "<a href=\"https://colab.research.google.com/github/bharani007-pc/python/blob/main/Arithmetic%20operations.ipynb\" target=\"_parent\"><img src=\"https://colab.research.google.com/assets/colab-badge.svg\" alt=\"Open In Colab\"/></a>"
      ]
    },
    {
      "cell_type": "code",
      "metadata": {
        "id": "DspcfHx3Uzo9",
        "colab": {
          "base_uri": "https://localhost:8080/"
        },
        "outputId": "9a511959-8dda-4854-ad54-76ef9e95130d"
      },
      "source": [
        "a=int(input(\"Enter num1:\"))\n",
        "b=int(input(\"Enter num2:\"))\n",
        "print(\"ADDITION\",a+b)\n",
        "print(\"SUBRACTION\",a-b)\n",
        "print(\"MULTIPLICATION\",a*b)\n",
        "print(\"DIVISION\",a/b)\n",
        "print(\"EXPONENT\",a**b)\n",
        "print(\"FLOOR DIVISION\",a//b)"
      ],
      "execution_count": 1,
      "outputs": [
        {
          "output_type": "stream",
          "text": [
            "Enter num1:5\n",
            "Enter num2:5\n",
            "ADDITION 10\n",
            "SUBRACTION 0\n",
            "MULTIPLICATION 25\n",
            "DIVISION 1.0\n",
            "EXPONENT 3125\n",
            "FLOOR DIVISION 1\n"
          ],
          "name": "stdout"
        }
      ]
    }
  ]
}